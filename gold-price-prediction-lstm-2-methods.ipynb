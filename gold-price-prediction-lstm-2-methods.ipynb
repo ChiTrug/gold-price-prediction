{
 "cells": [
  {
   "cell_type": "code",
   "execution_count": 44,
   "id": "fb3ddb44",
   "metadata": {
    "_cell_guid": "b1076dfc-b9ad-4769-8c92-a6c4dae69d19",
    "_uuid": "8f2839f25d086af736a60e9eeb907d3b93b6e0e5",
    "execution": {
     "iopub.execute_input": "2022-11-02T22:08:00.587422Z",
     "iopub.status.busy": "2022-11-02T22:08:00.586464Z",
     "iopub.status.idle": "2022-11-02T22:08:16.088416Z",
     "shell.execute_reply": "2022-11-02T22:08:16.087453Z"
    },
    "id": "AdMTwqa2LFWf",
    "papermill": {
     "duration": 15.513578,
     "end_time": "2022-11-02T22:08:16.091372",
     "exception": false,
     "start_time": "2022-11-02T22:08:00.577794",
     "status": "completed"
    },
    "tags": []
   },
   "outputs": [],
   "source": [
    "# standard libraries\n",
    "import numpy as np # linear algebra\n",
    "import pandas as pd # data processing, CSV file I/O (e.g. pd.read_csv)\n",
    "import re\n",
    "import warnings\n",
    "warnings.simplefilter('ignore')\n",
    "import string\n",
    "from string import digits\n",
    "import gc\n",
    "import math\n",
    "from datetime import datetime\n",
    "dateparse = lambda x: datetime.strptime(x, '%m/%d/%Y')\n",
    "\n",
    "# Visualisation\n",
    "import plotly.express as px\n",
    "from matplotlib import pyplot as plt\n",
    "\n",
    "# keras libraries\n",
    "import tensorflow as tf\n",
    "from tensorflow import keras as k\n",
    "from tqdm.keras import TqdmCallback\n",
    "\n",
    "#sklearn libraries\n",
    "from sklearn.model_selection import train_test_split\n",
    "from sklearn import preprocessing \n",
    "from sklearn import model_selection"
   ]
  },
  {
   "cell_type": "code",
   "execution_count": 45,
   "id": "1cb84a13",
   "metadata": {},
   "outputs": [],
   "source": [
    "\n",
    "import sys\n",
    "sys.path.insert(0, r\"C:\\\\Users\\\\ACER\\\\anaconda3\\\\python.exe\")"
   ]
  },
  {
   "cell_type": "markdown",
   "id": "dd3fde05",
   "metadata": {
    "id": "nMOBOTQkLFWj",
    "papermill": {
     "duration": 0.00624,
     "end_time": "2022-11-02T22:08:16.104781",
     "exception": false,
     "start_time": "2022-11-02T22:08:16.098541",
     "status": "completed"
    },
    "tags": []
   },
   "source": [
    "### Load Data"
   ]
  },
  {
   "cell_type": "code",
   "execution_count": 46,
   "id": "7ccb7570",
   "metadata": {
    "_kg_hide-input": true,
    "execution": {
     "iopub.execute_input": "2022-11-02T22:08:16.118929Z",
     "iopub.status.busy": "2022-11-02T22:08:16.118312Z",
     "iopub.status.idle": "2022-11-02T22:08:16.193245Z",
     "shell.execute_reply": "2022-11-02T22:08:16.192253Z"
    },
    "id": "8PT6jsxuLFWk",
    "outputId": "6da17add-9fa1-487b-b894-4c7c2b52e8a7",
    "papermill": {
     "duration": 0.084724,
     "end_time": "2022-11-02T22:08:16.195897",
     "exception": false,
     "start_time": "2022-11-02T22:08:16.111173",
     "status": "completed"
    },
    "tags": []
   },
   "outputs": [
    {
     "name": "stdout",
     "output_type": "stream",
     "text": [
      "Found 2508 records\n"
     ]
    }
   ],
   "source": [
    "# load data\n",
    "file = 'D:/Download-CC/test/gold.csv'\n",
    "df = pd.read_csv(file, parse_dates=['Date'], date_parser=dateparse)\n",
    "\n",
    "# drop NULLs\n",
    "df.dropna(inplace=True)\n",
    "df.reset_index(drop=True, inplace=True)\n",
    "\n",
    "# view\n",
    "print(f\"Found {df.shape[0]} records\")"
   ]
  },
  {
   "cell_type": "markdown",
   "id": "192fe32b",
   "metadata": {
    "id": "p1Sh3bg6O-fz",
    "papermill": {
     "duration": 0.006347,
     "end_time": "2022-11-02T22:08:16.208575",
     "exception": false,
     "start_time": "2022-11-02T22:08:16.202228",
     "status": "completed"
    },
    "tags": []
   },
   "source": [
    "# Opt 1 - Single LSTM Layer"
   ]
  },
  {
   "cell_type": "code",
   "execution_count": 47,
   "id": "7e3edea9",
   "metadata": {
    "execution": {
     "iopub.execute_input": "2022-11-02T22:08:16.224137Z",
     "iopub.status.busy": "2022-11-02T22:08:16.222359Z",
     "iopub.status.idle": "2022-11-02T22:08:16.232634Z",
     "shell.execute_reply": "2022-11-02T22:08:16.231735Z"
    },
    "id": "f3eMfnKQ2yG_",
    "papermill": {
     "duration": 0.019767,
     "end_time": "2022-11-02T22:08:16.234746",
     "exception": false,
     "start_time": "2022-11-02T22:08:16.214979",
     "status": "completed"
    },
    "tags": []
   },
   "outputs": [
    {
     "data": {
      "text/html": [
       "<div>\n",
       "<style scoped>\n",
       "    .dataframe tbody tr th:only-of-type {\n",
       "        vertical-align: middle;\n",
       "    }\n",
       "\n",
       "    .dataframe tbody tr th {\n",
       "        vertical-align: top;\n",
       "    }\n",
       "\n",
       "    .dataframe thead th {\n",
       "        text-align: right;\n",
       "    }\n",
       "</style>\n",
       "<table border=\"1\" class=\"dataframe\">\n",
       "  <thead>\n",
       "    <tr style=\"text-align: right;\">\n",
       "      <th></th>\n",
       "      <th>Close/Last</th>\n",
       "      <th>Volume</th>\n",
       "      <th>Open</th>\n",
       "      <th>High</th>\n",
       "      <th>Low</th>\n",
       "    </tr>\n",
       "    <tr>\n",
       "      <th>Date</th>\n",
       "      <th></th>\n",
       "      <th></th>\n",
       "      <th></th>\n",
       "      <th></th>\n",
       "      <th></th>\n",
       "    </tr>\n",
       "  </thead>\n",
       "  <tbody>\n",
       "    <tr>\n",
       "      <th>2022-10-28</th>\n",
       "      <td>1648.3</td>\n",
       "      <td>186519.0</td>\n",
       "      <td>1667.2</td>\n",
       "      <td>1670.9</td>\n",
       "      <td>1640.7</td>\n",
       "    </tr>\n",
       "    <tr>\n",
       "      <th>2022-10-27</th>\n",
       "      <td>1668.8</td>\n",
       "      <td>180599.0</td>\n",
       "      <td>1668.8</td>\n",
       "      <td>1674.8</td>\n",
       "      <td>1658.5</td>\n",
       "    </tr>\n",
       "    <tr>\n",
       "      <th>2022-10-26</th>\n",
       "      <td>1669.2</td>\n",
       "      <td>183453.0</td>\n",
       "      <td>1657.7</td>\n",
       "      <td>1679.4</td>\n",
       "      <td>1653.8</td>\n",
       "    </tr>\n",
       "    <tr>\n",
       "      <th>2022-10-25</th>\n",
       "      <td>1658.0</td>\n",
       "      <td>178706.0</td>\n",
       "      <td>1654.5</td>\n",
       "      <td>1666.8</td>\n",
       "      <td>1641.2</td>\n",
       "    </tr>\n",
       "    <tr>\n",
       "      <th>2022-10-24</th>\n",
       "      <td>1654.1</td>\n",
       "      <td>167448.0</td>\n",
       "      <td>1662.9</td>\n",
       "      <td>1675.5</td>\n",
       "      <td>1648.0</td>\n",
       "    </tr>\n",
       "    <tr>\n",
       "      <th>...</th>\n",
       "      <td>...</td>\n",
       "      <td>...</td>\n",
       "      <td>...</td>\n",
       "      <td>...</td>\n",
       "      <td>...</td>\n",
       "    </tr>\n",
       "    <tr>\n",
       "      <th>2012-11-06</th>\n",
       "      <td>1715.0</td>\n",
       "      <td>163585.0</td>\n",
       "      <td>1685.4</td>\n",
       "      <td>1720.9</td>\n",
       "      <td>1683.5</td>\n",
       "    </tr>\n",
       "    <tr>\n",
       "      <th>2012-11-05</th>\n",
       "      <td>1683.2</td>\n",
       "      <td>109647.0</td>\n",
       "      <td>1676.7</td>\n",
       "      <td>1686.2</td>\n",
       "      <td>1672.5</td>\n",
       "    </tr>\n",
       "    <tr>\n",
       "      <th>2012-11-02</th>\n",
       "      <td>1675.2</td>\n",
       "      <td>205777.0</td>\n",
       "      <td>1715.6</td>\n",
       "      <td>1717.2</td>\n",
       "      <td>1674.8</td>\n",
       "    </tr>\n",
       "    <tr>\n",
       "      <th>2012-11-01</th>\n",
       "      <td>1715.5</td>\n",
       "      <td>105904.0</td>\n",
       "      <td>1720.4</td>\n",
       "      <td>1727.5</td>\n",
       "      <td>1715.1</td>\n",
       "    </tr>\n",
       "    <tr>\n",
       "      <th>2012-10-31</th>\n",
       "      <td>1719.1</td>\n",
       "      <td>110928.0</td>\n",
       "      <td>1710.3</td>\n",
       "      <td>1726.6</td>\n",
       "      <td>1709.8</td>\n",
       "    </tr>\n",
       "  </tbody>\n",
       "</table>\n",
       "<p>2508 rows × 5 columns</p>\n",
       "</div>"
      ],
      "text/plain": [
       "            Close/Last    Volume    Open    High     Low\n",
       "Date                                                    \n",
       "2022-10-28      1648.3  186519.0  1667.2  1670.9  1640.7\n",
       "2022-10-27      1668.8  180599.0  1668.8  1674.8  1658.5\n",
       "2022-10-26      1669.2  183453.0  1657.7  1679.4  1653.8\n",
       "2022-10-25      1658.0  178706.0  1654.5  1666.8  1641.2\n",
       "2022-10-24      1654.1  167448.0  1662.9  1675.5  1648.0\n",
       "...                ...       ...     ...     ...     ...\n",
       "2012-11-06      1715.0  163585.0  1685.4  1720.9  1683.5\n",
       "2012-11-05      1683.2  109647.0  1676.7  1686.2  1672.5\n",
       "2012-11-02      1675.2  205777.0  1715.6  1717.2  1674.8\n",
       "2012-11-01      1715.5  105904.0  1720.4  1727.5  1715.1\n",
       "2012-10-31      1719.1  110928.0  1710.3  1726.6  1709.8\n",
       "\n",
       "[2508 rows x 5 columns]"
      ]
     },
     "execution_count": 47,
     "metadata": {},
     "output_type": "execute_result"
    }
   ],
   "source": [
    "# creating a seperate df with Date column indexed\n",
    "df1 = df.set_index('Date')\n",
    "df1"
   ]
  },
  {
   "cell_type": "markdown",
   "id": "c1e18f8a",
   "metadata": {
    "id": "beS6z72WyFNN",
    "papermill": {
     "duration": 0.006448,
     "end_time": "2022-11-02T22:08:16.248939",
     "exception": false,
     "start_time": "2022-11-02T22:08:16.242491",
     "status": "completed"
    },
    "tags": []
   },
   "source": [
    "### Feature Engineering & Data Prep"
   ]
  },
  {
   "cell_type": "code",
   "execution_count": 48,
   "id": "15719876",
   "metadata": {
    "execution": {
     "iopub.execute_input": "2022-11-02T22:08:16.263878Z",
     "iopub.status.busy": "2022-11-02T22:08:16.262955Z",
     "iopub.status.idle": "2022-11-02T22:08:16.271925Z",
     "shell.execute_reply": "2022-11-02T22:08:16.271061Z"
    },
    "id": "yKO8tXVGxd8N",
    "papermill": {
     "duration": 0.018449,
     "end_time": "2022-11-02T22:08:16.274049",
     "exception": false,
     "start_time": "2022-11-02T22:08:16.255600",
     "status": "completed"
    },
    "tags": []
   },
   "outputs": [],
   "source": [
    "# define features & target\n",
    "features = ['Volume','Open','High','Low']\n",
    "X = df1[features]   # features\n",
    "y = df1[['Close/Last']]  # target"
   ]
  },
  {
   "cell_type": "code",
   "execution_count": 51,
   "id": "0c774d5b",
   "metadata": {
    "execution": {
     "iopub.execute_input": "2022-11-02T22:08:16.289026Z",
     "iopub.status.busy": "2022-11-02T22:08:16.288132Z",
     "iopub.status.idle": "2022-11-02T22:08:16.298433Z",
     "shell.execute_reply": "2022-11-02T22:08:16.297616Z"
    },
    "id": "hdmDL4PF0t0a",
    "papermill": {
     "duration": 0.019836,
     "end_time": "2022-11-02T22:08:16.300412",
     "exception": false,
     "start_time": "2022-11-02T22:08:16.280576",
     "status": "completed"
    },
    "tags": []
   },
   "outputs": [],
   "source": [
    "# instantiate MinMax Scaler function\n",
    "mms = preprocessing.MinMaxScaler()\n",
    "\n",
    "# applying the scaler function to features\n",
    "X = mms.fit_transform(X)\n",
    "y = mms.fit_transform(y)"
   ]
  },
  {
   "cell_type": "code",
   "execution_count": 52,
   "id": "59d570c6",
   "metadata": {
    "execution": {
     "iopub.execute_input": "2022-11-02T22:08:16.315335Z",
     "iopub.status.busy": "2022-11-02T22:08:16.314363Z",
     "iopub.status.idle": "2022-11-02T22:08:16.320463Z",
     "shell.execute_reply": "2022-11-02T22:08:16.319642Z"
    },
    "id": "asR0hjqa2nkf",
    "papermill": {
     "duration": 0.015574,
     "end_time": "2022-11-02T22:08:16.322486",
     "exception": false,
     "start_time": "2022-11-02T22:08:16.306912",
     "status": "completed"
    },
    "tags": []
   },
   "outputs": [],
   "source": [
    "# splitting to Training set and Test set\n",
    "tss = model_selection.TimeSeriesSplit()\n",
    "\n",
    "for train_index, test_index in tss.split(X):\n",
    "  X_train, X_test = X[:len(train_index)], X[len(train_index): (len(train_index)+len(test_index))]\n",
    "  y_train, y_test = y[:len(train_index)], y[len(train_index): (len(train_index)+len(test_index))]"
   ]
  },
  {
   "cell_type": "code",
   "execution_count": 53,
   "id": "5daf977c",
   "metadata": {
    "execution": {
     "iopub.execute_input": "2022-11-02T22:08:16.336461Z",
     "iopub.status.busy": "2022-11-02T22:08:16.335587Z",
     "iopub.status.idle": "2022-11-02T22:08:16.341991Z",
     "shell.execute_reply": "2022-11-02T22:08:16.340692Z"
    },
    "id": "3CwjaAT-32ef",
    "papermill": {
     "duration": 0.015511,
     "end_time": "2022-11-02T22:08:16.344152",
     "exception": false,
     "start_time": "2022-11-02T22:08:16.328641",
     "status": "completed"
    },
    "tags": []
   },
   "outputs": [],
   "source": [
    "# data prep for LSTM \n",
    "''' the training/test data needs to be converted into a format that LSTM can interpret i.e. in 3D matrix'''\n",
    "# convert to array\n",
    "trainX = np.array(X_train)\n",
    "testX = np.array(X_test)\n",
    "\n",
    "# reshape\n",
    "X_train = trainX.reshape(X_train.shape[0], 1, X_train.shape[1])\n",
    "X_test = testX.reshape(X_test.shape[0], 1, X_test.shape[1])"
   ]
  },
  {
   "cell_type": "code",
   "execution_count": 54,
   "id": "b0be8c0a",
   "metadata": {
    "execution": {
     "iopub.execute_input": "2022-11-02T22:08:16.358074Z",
     "iopub.status.busy": "2022-11-02T22:08:16.357285Z",
     "iopub.status.idle": "2022-11-02T22:08:16.363646Z",
     "shell.execute_reply": "2022-11-02T22:08:16.362160Z"
    },
    "id": "4dPQ5JWpC3Mk",
    "outputId": "02bd8ff7-6265-485d-86a1-253a9ded2a9a",
    "papermill": {
     "duration": 0.015472,
     "end_time": "2022-11-02T22:08:16.365798",
     "exception": false,
     "start_time": "2022-11-02T22:08:16.350326",
     "status": "completed"
    },
    "tags": []
   },
   "outputs": [
    {
     "name": "stdout",
     "output_type": "stream",
     "text": [
      "Number of rows and columns in training :  (2090, 1, 4)\n",
      "Number of rows and columns in test :  (418, 1, 4)\n"
     ]
    }
   ],
   "source": [
    "# training data shape\n",
    "print('Number of rows and columns in training : ', X_train.shape)\n",
    "print('Number of rows and columns in test : ', X_test.shape)"
   ]
  },
  {
   "cell_type": "markdown",
   "id": "26c74313",
   "metadata": {
    "id": "M1qhFut65HNx",
    "papermill": {
     "duration": 0.006203,
     "end_time": "2022-11-02T22:08:16.378408",
     "exception": false,
     "start_time": "2022-11-02T22:08:16.372205",
     "status": "completed"
    },
    "tags": []
   },
   "source": [
    "### Build Model"
   ]
  },
  {
   "cell_type": "code",
   "execution_count": 69,
   "id": "46fc1d2c",
   "metadata": {
    "_kg_hide-output": true,
    "execution": {
     "iopub.execute_input": "2022-11-02T22:08:16.391687Z",
     "iopub.status.busy": "2022-11-02T22:08:16.391383Z",
     "iopub.status.idle": "2022-11-02T22:08:23.816862Z",
     "shell.execute_reply": "2022-11-02T22:08:23.815865Z"
    },
    "id": "FIKi8lHv4zH6",
    "outputId": "ac6bc1ae-245a-4624-c557-a057d5cb4aca",
    "papermill": {
     "duration": 7.435029,
     "end_time": "2022-11-02T22:08:23.819688",
     "exception": false,
     "start_time": "2022-11-02T22:08:16.384659",
     "status": "completed"
    },
    "tags": []
   },
   "outputs": [],
   "source": [
    "# build the model architecture\n",
    "model = k.models.Sequential()\n",
    "\n",
    "# add input layer (first LSTM layer)\n",
    "model.add(k.layers.LSTM(units=32\n",
    "                        ,return_sequences=False\n",
    "                        ,input_shape=(1, trainX.shape[1])\n",
    "                        ,activation='tanh'))\n",
    "\n",
    "# add drop out (to prevent overfitting)\n",
    "model.add(k.layers.Dropout(0.5))\n",
    "\n",
    "# add output layer\n",
    "model.add(k.layers.Dense(units=1, name='Output_Layer'))\n",
    "\n",
    "# compile model\n",
    "model.compile(optimizer='adam', loss='mean_squared_error', metrics=['mse'])    \n",
    "\n",
    "# summary\n",
    "# model.summary()"
   ]
  },
  {
   "cell_type": "code",
   "execution_count": 72,
   "id": "18ce36c3",
   "metadata": {
    "execution": {
     "iopub.execute_input": "2022-11-02T22:08:23.834585Z",
     "iopub.status.busy": "2022-11-02T22:08:23.834237Z",
     "iopub.status.idle": "2022-11-02T22:08:25.649557Z",
     "shell.execute_reply": "2022-11-02T22:08:25.648363Z"
    },
    "id": "--tNRzJaLFWy",
    "outputId": "e432e7f1-042b-4575-aa0a-6b57a8909ec5",
    "papermill": {
     "duration": 1.825459,
     "end_time": "2022-11-02T22:08:25.652161",
     "exception": false,
     "start_time": "2022-11-02T22:08:23.826702",
     "status": "completed"
    },
    "tags": []
   },
   "outputs": [
    {
     "name": "stdout",
     "output_type": "stream",
     "text": [
      "You must install pydot (`pip install pydot`) and install graphviz (see instructions at https://graphviz.gitlab.io/download/) for plot_model to work.\n"
     ]
    }
   ],
   "source": [
    "# plot model architecture\n",
    "tf.keras.utils.plot_model(model,show_shapes=True)"
   ]
  },
  {
   "cell_type": "markdown",
   "id": "f0b171ad",
   "metadata": {
    "id": "C0FVbP-sLFWz",
    "papermill": {
     "duration": 0.007186,
     "end_time": "2022-11-02T22:08:25.666832",
     "exception": false,
     "start_time": "2022-11-02T22:08:25.659646",
     "status": "completed"
    },
    "tags": []
   },
   "source": [
    "### Train, Evaluate & Predict Model"
   ]
  },
  {
   "cell_type": "code",
   "execution_count": 37,
   "id": "60737ba0",
   "metadata": {
    "execution": {
     "iopub.execute_input": "2022-11-02T22:08:25.683227Z",
     "iopub.status.busy": "2022-11-02T22:08:25.682890Z",
     "iopub.status.idle": "2022-11-02T22:11:49.404058Z",
     "shell.execute_reply": "2022-11-02T22:11:49.402939Z"
    },
    "id": "Mf_yxFnPLFWz",
    "outputId": "2fd3f326-38e4-4b06-9de7-fc7902c89df2",
    "papermill": {
     "duration": 203.732596,
     "end_time": "2022-11-02T22:11:49.406956",
     "exception": false,
     "start_time": "2022-11-02T22:08:25.674360",
     "status": "completed"
    },
    "tags": []
   },
   "outputs": [
    {
     "name": "stderr",
     "output_type": "stream",
     "text": [
      "100%|██████████| 150/150 [01:29<00:00,  1.67epoch/s, loss=0.0023, mse=0.0023, val_loss=8.87e-5, val_mse=8.87e-5]    \n"
     ]
    }
   ],
   "source": [
    "# model fit params\n",
    "epoch = 150\n",
    "\n",
    "# clear session (for re-running/training)\n",
    "gc.collect()\n",
    "k.backend.clear_session()\n",
    "\n",
    "# fit model\n",
    "hist = model.fit(X_train\n",
    "                 ,y_train\n",
    "                 ,validation_data= (X_test, y_test)\n",
    "                 ,epochs=epoch\n",
    "                 ,verbose=0\n",
    "                ,callbacks=[TqdmCallback(verbose=0)]\n",
    "                , batch_size=8\n",
    "                )"
   ]
  },
  {
   "cell_type": "code",
   "execution_count": 38,
   "id": "a3f4c2dc",
   "metadata": {
    "execution": {
     "iopub.execute_input": "2022-11-02T22:11:49.423533Z",
     "iopub.status.busy": "2022-11-02T22:11:49.422689Z",
     "iopub.status.idle": "2022-11-02T22:11:49.429754Z",
     "shell.execute_reply": "2022-11-02T22:11:49.428521Z"
    },
    "id": "4JPx44adEeWk",
    "outputId": "9c56bcba-4168-45cb-c50b-fed7f430c56e",
    "papermill": {
     "duration": 0.017973,
     "end_time": "2022-11-02T22:11:49.432375",
     "exception": false,
     "start_time": "2022-11-02T22:11:49.414402",
     "status": "completed"
    },
    "tags": []
   },
   "outputs": [
    {
     "name": "stdout",
     "output_type": "stream",
     "text": [
      "Our model's loss value dropped to 2.30e-03 over 150\n"
     ]
    }
   ],
   "source": [
    "# view loss value\n",
    "loss = '{:.2e}'.format(hist.history['loss'][-1])\n",
    "print(f\"Our model's loss value dropped to {loss} over {epoch}\")"
   ]
  },
  {
   "cell_type": "code",
   "execution_count": 39,
   "id": "70b8bace",
   "metadata": {
    "execution": {
     "iopub.execute_input": "2022-11-02T22:11:49.448606Z",
     "iopub.status.busy": "2022-11-02T22:11:49.448338Z",
     "iopub.status.idle": "2022-11-02T22:11:49.820677Z",
     "shell.execute_reply": "2022-11-02T22:11:49.819644Z"
    },
    "id": "VE-1KnUTFoQ3",
    "outputId": "895f6661-4ae6-40ae-b02b-ba3c553fe8ae",
    "papermill": {
     "duration": 0.38305,
     "end_time": "2022-11-02T22:11:49.823153",
     "exception": false,
     "start_time": "2022-11-02T22:11:49.440103",
     "status": "completed"
    },
    "tags": []
   },
   "outputs": [
    {
     "name": "stdout",
     "output_type": "stream",
     "text": [
      "14/14 [==============================] - 0s 1ms/step\n"
     ]
    }
   ],
   "source": [
    "# prediction\n",
    "y_pred = model.predict(X_test)"
   ]
  },
  {
   "cell_type": "code",
   "execution_count": 40,
   "id": "5c922fef",
   "metadata": {
    "execution": {
     "iopub.execute_input": "2022-11-02T22:11:49.839414Z",
     "iopub.status.busy": "2022-11-02T22:11:49.839091Z",
     "iopub.status.idle": "2022-11-02T22:11:50.116626Z",
     "shell.execute_reply": "2022-11-02T22:11:50.115720Z"
    },
    "id": "s4ZmSpbYFwo3",
    "outputId": "a1e608c0-b6ba-4fd8-b853-7cc1b32990db",
    "papermill": {
     "duration": 0.288426,
     "end_time": "2022-11-02T22:11:50.119249",
     "exception": false,
     "start_time": "2022-11-02T22:11:49.830823",
     "status": "completed"
    },
    "tags": []
   },
   "outputs": [
    {
     "data": {
      "image/png": "[encoded data removed]",
      "text/plain": [
       "<Figure size 1000x500 with 1 Axes>"
      ]
     },
     "metadata": {},
     "output_type": "display_data"
    }
   ],
   "source": [
    "# comparing predicted v/s true value'\n",
    "plt.figure(figsize=(10,5))\n",
    "plt.plot(y_test, label='True Value')\n",
    "plt.plot(y_pred, label='Predicted Value')\n",
    "plt.title(\"predicted v/s true value\")\n",
    "plt.xlabel('Date')\n",
    "plt.ylabel('Close Gold Price (USD)')\n",
    "plt.legend()\n",
    "plt.show()"
   ]
  },
  {
   "cell_type": "markdown",
   "id": "64af3e52",
   "metadata": {
    "id": "SVABXuJf9bPX",
    "papermill": {
     "duration": 0.007612,
     "end_time": "2022-11-02T22:11:50.134882",
     "exception": false,
     "start_time": "2022-11-02T22:11:50.127270",
     "status": "completed"
    },
    "tags": []
   },
   "source": [
    "**As, we can observe with 150 epochs the model's predicted value is quite close (even similar at times) to the true value.**"
   ]
  },
  {
   "cell_type": "markdown",
   "id": "913b42b6",
   "metadata": {
    "id": "EZJjs3kIPGJv",
    "papermill": {
     "duration": 0.007604,
     "end_time": "2022-11-02T22:11:50.150425",
     "exception": false,
     "start_time": "2022-11-02T22:11:50.142821",
     "status": "completed"
    },
    "tags": []
   },
   "source": [
    "# Opt 2 - Multiple LSTM Layer"
   ]
  },
  {
   "cell_type": "code",
   "execution_count": 41,
   "id": "039a853a",
   "metadata": {
    "execution": {
     "iopub.execute_input": "2022-11-02T22:11:50.166755Z",
     "iopub.status.busy": "2022-11-02T22:11:50.166440Z",
     "iopub.status.idle": "2022-11-02T22:11:50.172249Z",
     "shell.execute_reply": "2022-11-02T22:11:50.171297Z"
    },
    "id": "aqr7kKe6Q5DV",
    "papermill": {
     "duration": 0.016385,
     "end_time": "2022-11-02T22:11:50.174192",
     "exception": false,
     "start_time": "2022-11-02T22:11:50.157807",
     "status": "completed"
    },
    "tags": []
   },
   "outputs": [],
   "source": [
    "# setting Date column as index\n",
    "df2 = df.set_index('Date')"
   ]
  },
  {
   "cell_type": "code",
   "execution_count": 42,
   "id": "d2cd3091",
   "metadata": {
    "execution": {
     "iopub.execute_input": "2022-11-02T22:11:50.191733Z",
     "iopub.status.busy": "2022-11-02T22:11:50.190943Z",
     "iopub.status.idle": "2022-11-02T22:11:50.203052Z",
     "shell.execute_reply": "2022-11-02T22:11:50.201490Z"
    },
    "id": "Fu51K9vNPT3F",
    "outputId": "2dcde46d-f481-43a9-83c2-7cadc99fa1ff",
    "papermill": {
     "duration": 0.023153,
     "end_time": "2022-11-02T22:11:50.205362",
     "exception": false,
     "start_time": "2022-11-02T22:11:50.182209",
     "status": "completed"
    },
    "tags": []
   },
   "outputs": [
    {
     "name": "stdout",
     "output_type": "stream",
     "text": [
      "Training data length is 2132\n"
     ]
    }
   ],
   "source": [
    "# dataframe with only the Close/Last \n",
    "data_target = df2.filter(['Close/Last'])\n",
    "\n",
    "# sort the list (by index)\n",
    "data_target.sort_index(ascending=False, inplace=True)\n",
    "\n",
    "# Convert the dataframe to a numpy array to train the LSTM model\n",
    "target = data_target.values\n",
    "\n",
    "# Splitting the dataset into training and test\n",
    "# Target Variable: Close stock price value\n",
    "\n",
    "training_data_len = math.ceil(len(target)* 0.85) # training set has 80% of the data\n",
    "print(f\"Training data length is {training_data_len}\")\n",
    "\n",
    "# Normalizing data before model fitting using MinMaxScaler\n",
    "training_scaled_data = mms.fit_transform(target)"
   ]
  },
  {
   "cell_type": "code",
   "execution_count": 56,
   "id": "8417f54c",
   "metadata": {
    "execution": {
     "iopub.execute_input": "2022-11-02T22:11:50.222720Z",
     "iopub.status.busy": "2022-11-02T22:11:50.222454Z",
     "iopub.status.idle": "2022-11-02T22:11:50.235336Z",
     "shell.execute_reply": "2022-11-02T22:11:50.233707Z"
    },
    "id": "aPySRtuyQC8W",
    "outputId": "039e87c7-99b2-456d-d588-ef7d02ec13c8",
    "papermill": {
     "duration": 0.024349,
     "end_time": "2022-11-02T22:11:50.238176",
     "exception": false,
     "start_time": "2022-11-02T22:11:50.213827",
     "status": "completed"
    },
    "tags": []
   },
   "outputs": [
    {
     "name": "stdout",
     "output_type": "stream",
     "text": [
      "Number of rows and columns:  (1037, 1095, 1)\n"
     ]
    }
   ],
   "source": [
    "# Create a training dataset containing the last n day closing price values we want to use to estimate the n+1 closing price value.\n",
    "train_data = training_scaled_data[0:training_data_len  , : ]\n",
    "\n",
    "n = 1095 # ~ last 3 years data\n",
    "X_train = []\n",
    "y_train = []\n",
    "for i in range(n, len(train_data)):\n",
    "    X_train.append(train_data[i-n:i, 0])\n",
    "    y_train.append(train_data[i, 0])\n",
    "\n",
    "# converting into numpy sequences to train the LSTM model\n",
    "X_train, y_train = np.array(X_train), np.array(y_train) \n",
    "X_train = np.reshape(X_train, (X_train.shape[0], X_train.shape[1], 1))\n",
    "print('Number of rows and columns: ', X_train.shape) "
   ]
  },
  {
   "cell_type": "code",
   "execution_count": 59,
   "id": "5a6d1ec9",
   "metadata": {
    "execution": {
     "iopub.execute_input": "2022-11-02T22:11:50.255222Z",
     "iopub.status.busy": "2022-11-02T22:11:50.254943Z",
     "iopub.status.idle": "2022-11-02T22:11:51.080134Z",
     "shell.execute_reply": "2022-11-02T22:11:51.079181Z"
    },
    "id": "DUCPZI-GSCTI",
    "outputId": "a4042cb3-8e5f-4e47-aa1f-07e7b5938b35",
    "papermill": {
     "duration": 0.836646,
     "end_time": "2022-11-02T22:11:51.083142",
     "exception": false,
     "start_time": "2022-11-02T22:11:50.246496",
     "status": "completed"
    },
    "tags": []
   },
   "outputs": [
    {
     "name": "stdout",
     "output_type": "stream",
     "text": [
      "Model: \"sequential_3\"\n",
      "_________________________________________________________________\n",
      " Layer (type)                Output Shape              Param #   \n",
      "=================================================================\n",
      " lstm_6 (LSTM)               (None, 1095, 50)          10400     \n",
      "                                                                 \n",
      " dropout_6 (Dropout)         (None, 1095, 50)          0         \n",
      "                                                                 \n",
      " lstm_7 (LSTM)               (None, 1095, 50)          20200     \n",
      "                                                                 \n",
      " dropout_7 (Dropout)         (None, 1095, 50)          0         \n",
      "                                                                 \n",
      " lstm_8 (LSTM)               (None, 1095, 50)          20200     \n",
      "                                                                 \n",
      " dropout_8 (Dropout)         (None, 1095, 50)          0         \n",
      "                                                                 \n",
      " lstm_9 (LSTM)               (None, 50)                20200     \n",
      "                                                                 \n",
      " dropout_9 (Dropout)         (None, 50)                0         \n",
      "                                                                 \n",
      " dense_1 (Dense)             (None, 1)                 51        \n",
      "                                                                 \n",
      "=================================================================\n",
      "Total params: 71,051\n",
      "Trainable params: 71,051\n",
      "Non-trainable params: 0\n",
      "_________________________________________________________________\n"
     ]
    }
   ],
   "source": [
    "# Build Model\n",
    "model = k.models.Sequential()\n",
    "\n",
    "# adding the first layer (input + LSTM) and Dropout regularisation\n",
    "model.add(k.layers.LSTM(units = 50, return_sequences = True, input_shape = (X_train.shape[1], 1)))\n",
    "model.add(k.layers.Dropout(0.2))\n",
    "\n",
    "# adding a second LSTM layer and Dropout regularisation\n",
    "model.add(k.layers.LSTM(units = 50, return_sequences = True))\n",
    "model.add(k.layers.Dropout(0.2))\n",
    "\n",
    "# adding a third LSTM layer and Dropout regularisation\n",
    "model.add(k.layers.LSTM(units = 50, return_sequences = True))\n",
    "model.add(k.layers.Dropout(0.2))\n",
    "\n",
    "# adding a fourth LSTM layer and Dropout regularisation\n",
    "model.add(k.layers.LSTM(units = 50))\n",
    "model.add(k.layers.Dropout(0.2))\n",
    "\n",
    "# adding the output layer\n",
    "model.add(k.layers.Dense(units = 1))\n",
    "\n",
    "# compile\n",
    "model.compile(optimizer = 'adam', loss = 'mean_squared_error')\n",
    "\n",
    "# summary\n",
    "model.summary()"
   ]
  },
  {
   "cell_type": "code",
   "execution_count": 64,
   "id": "32750d8f",
   "metadata": {
    "execution": {
     "iopub.execute_input": "2022-11-02T22:11:51.100148Z",
     "iopub.status.busy": "2022-11-02T22:11:51.099869Z",
     "iopub.status.idle": "2022-11-02T22:11:51.315395Z",
     "shell.execute_reply": "2022-11-02T22:11:51.314262Z"
    },
    "id": "NSkPs2GxStnk",
    "papermill": {
     "duration": 0.226642,
     "end_time": "2022-11-02T22:11:51.317842",
     "exception": false,
     "start_time": "2022-11-02T22:11:51.091200",
     "status": "completed"
    },
    "tags": []
   },
   "outputs": [
    {
     "name": "stdout",
     "output_type": "stream",
     "text": [
      "You must install pydot (`pip install pydot`) and install graphviz (see instructions at https://graphviz.gitlab.io/download/) for plot_model to work.\n"
     ]
    }
   ],
   "source": [
    "# plot model architecture\n",
    "tf.keras.utils.plot_model(model,show_shapes=True)"
   ]
  },
  {
   "cell_type": "code",
   "execution_count": 68,
   "id": "34ebd43b",
   "metadata": {
    "execution": {
     "iopub.execute_input": "2022-11-02T22:11:51.337709Z",
     "iopub.status.busy": "2022-11-02T22:11:51.337348Z",
     "iopub.status.idle": "2022-11-02T22:17:18.208747Z",
     "shell.execute_reply": "2022-11-02T22:17:18.207635Z"
    },
    "id": "3XV8dL36SyoZ",
    "outputId": "16f3b13e-0d2a-430d-a529-dd1c5a000632",
    "papermill": {
     "duration": 326.884238,
     "end_time": "2022-11-02T22:17:18.211437",
     "exception": false,
     "start_time": "2022-11-02T22:11:51.327199",
     "status": "completed"
    },
    "tags": []
   },
   "outputs": [
    {
     "name": "stderr",
     "output_type": "stream",
     "text": []
    },
    {
     "ename": "KeyboardInterrupt",
     "evalue": "",
     "output_type": "error",
     "traceback": [
      "\u001b[1;31m---------------------------------------------------------------------------\u001b[0m",
      "\u001b[1;31mKeyboardInterrupt\u001b[0m                         Traceback (most recent call last)",
      "Cell \u001b[1;32mIn[68], line 3\u001b[0m\n\u001b[0;32m      1\u001b[0m \u001b[39m# train / fit model\u001b[39;00m\n\u001b[0;32m      2\u001b[0m epoch \u001b[39m=\u001b[39m \u001b[39m150\u001b[39m\n\u001b[1;32m----> 3\u001b[0m hist \u001b[39m=\u001b[39m model\u001b[39m.\u001b[39;49mfit(X_train, y_train\n\u001b[0;32m      4\u001b[0m           ,epochs \u001b[39m=\u001b[39;49m epoch\n\u001b[0;32m      5\u001b[0m           ,batch_size \u001b[39m=\u001b[39;49m \u001b[39m64\u001b[39;49m\n\u001b[0;32m      6\u001b[0m           ,verbose\u001b[39m=\u001b[39;49m\u001b[39m0\u001b[39;49m\n\u001b[0;32m      7\u001b[0m           ,callbacks\u001b[39m=\u001b[39;49m[TqdmCallback(verbose\u001b[39m=\u001b[39;49m\u001b[39m0\u001b[39;49m)])\n",
      "File \u001b[1;32mc:\\Users\\ACER\\anaconda3\\envs\\tf\\lib\\site-packages\\keras\\utils\\traceback_utils.py:65\u001b[0m, in \u001b[0;36mfilter_traceback.<locals>.error_handler\u001b[1;34m(*args, **kwargs)\u001b[0m\n\u001b[0;32m     63\u001b[0m filtered_tb \u001b[39m=\u001b[39m \u001b[39mNone\u001b[39;00m\n\u001b[0;32m     64\u001b[0m \u001b[39mtry\u001b[39;00m:\n\u001b[1;32m---> 65\u001b[0m     \u001b[39mreturn\u001b[39;00m fn(\u001b[39m*\u001b[39margs, \u001b[39m*\u001b[39m\u001b[39m*\u001b[39mkwargs)\n\u001b[0;32m     66\u001b[0m \u001b[39mexcept\u001b[39;00m \u001b[39mException\u001b[39;00m \u001b[39mas\u001b[39;00m e:\n\u001b[0;32m     67\u001b[0m     filtered_tb \u001b[39m=\u001b[39m _process_traceback_frames(e\u001b[39m.\u001b[39m__traceback__)\n",
      "File \u001b[1;32mc:\\Users\\ACER\\anaconda3\\envs\\tf\\lib\\site-packages\\keras\\engine\\training.py:1650\u001b[0m, in \u001b[0;36mModel.fit\u001b[1;34m(self, x, y, batch_size, epochs, verbose, callbacks, validation_split, validation_data, shuffle, class_weight, sample_weight, initial_epoch, steps_per_epoch, validation_steps, validation_batch_size, validation_freq, max_queue_size, workers, use_multiprocessing)\u001b[0m\n\u001b[0;32m   1642\u001b[0m \u001b[39mwith\u001b[39;00m tf\u001b[39m.\u001b[39mprofiler\u001b[39m.\u001b[39mexperimental\u001b[39m.\u001b[39mTrace(\n\u001b[0;32m   1643\u001b[0m     \u001b[39m\"\u001b[39m\u001b[39mtrain\u001b[39m\u001b[39m\"\u001b[39m,\n\u001b[0;32m   1644\u001b[0m     epoch_num\u001b[39m=\u001b[39mepoch,\n\u001b[1;32m   (...)\u001b[0m\n\u001b[0;32m   1647\u001b[0m     _r\u001b[39m=\u001b[39m\u001b[39m1\u001b[39m,\n\u001b[0;32m   1648\u001b[0m ):\n\u001b[0;32m   1649\u001b[0m     callbacks\u001b[39m.\u001b[39mon_train_batch_begin(step)\n\u001b[1;32m-> 1650\u001b[0m     tmp_logs \u001b[39m=\u001b[39m \u001b[39mself\u001b[39;49m\u001b[39m.\u001b[39;49mtrain_function(iterator)\n\u001b[0;32m   1651\u001b[0m     \u001b[39mif\u001b[39;00m data_handler\u001b[39m.\u001b[39mshould_sync:\n\u001b[0;32m   1652\u001b[0m         context\u001b[39m.\u001b[39masync_wait()\n",
      "File \u001b[1;32mc:\\Users\\ACER\\anaconda3\\envs\\tf\\lib\\site-packages\\tensorflow\\python\\util\\traceback_utils.py:150\u001b[0m, in \u001b[0;36mfilter_traceback.<locals>.error_handler\u001b[1;34m(*args, **kwargs)\u001b[0m\n\u001b[0;32m    148\u001b[0m filtered_tb \u001b[39m=\u001b[39m \u001b[39mNone\u001b[39;00m\n\u001b[0;32m    149\u001b[0m \u001b[39mtry\u001b[39;00m:\n\u001b[1;32m--> 150\u001b[0m   \u001b[39mreturn\u001b[39;00m fn(\u001b[39m*\u001b[39margs, \u001b[39m*\u001b[39m\u001b[39m*\u001b[39mkwargs)\n\u001b[0;32m    151\u001b[0m \u001b[39mexcept\u001b[39;00m \u001b[39mException\u001b[39;00m \u001b[39mas\u001b[39;00m e:\n\u001b[0;32m    152\u001b[0m   filtered_tb \u001b[39m=\u001b[39m _process_traceback_frames(e\u001b[39m.\u001b[39m__traceback__)\n",
      "File \u001b[1;32mc:\\Users\\ACER\\anaconda3\\envs\\tf\\lib\\site-packages\\tensorflow\\python\\eager\\polymorphic_function\\polymorphic_function.py:880\u001b[0m, in \u001b[0;36mFunction.__call__\u001b[1;34m(self, *args, **kwds)\u001b[0m\n\u001b[0;32m    877\u001b[0m compiler \u001b[39m=\u001b[39m \u001b[39m\"\u001b[39m\u001b[39mxla\u001b[39m\u001b[39m\"\u001b[39m \u001b[39mif\u001b[39;00m \u001b[39mself\u001b[39m\u001b[39m.\u001b[39m_jit_compile \u001b[39melse\u001b[39;00m \u001b[39m\"\u001b[39m\u001b[39mnonXla\u001b[39m\u001b[39m\"\u001b[39m\n\u001b[0;32m    879\u001b[0m \u001b[39mwith\u001b[39;00m OptionalXlaContext(\u001b[39mself\u001b[39m\u001b[39m.\u001b[39m_jit_compile):\n\u001b[1;32m--> 880\u001b[0m   result \u001b[39m=\u001b[39m \u001b[39mself\u001b[39m\u001b[39m.\u001b[39m_call(\u001b[39m*\u001b[39margs, \u001b[39m*\u001b[39m\u001b[39m*\u001b[39mkwds)\n\u001b[0;32m    882\u001b[0m new_tracing_count \u001b[39m=\u001b[39m \u001b[39mself\u001b[39m\u001b[39m.\u001b[39mexperimental_get_tracing_count()\n\u001b[0;32m    883\u001b[0m without_tracing \u001b[39m=\u001b[39m (tracing_count \u001b[39m==\u001b[39m new_tracing_count)\n",
      "File \u001b[1;32mc:\\Users\\ACER\\anaconda3\\envs\\tf\\lib\\site-packages\\tensorflow\\python\\eager\\polymorphic_function\\polymorphic_function.py:912\u001b[0m, in \u001b[0;36mFunction._call\u001b[1;34m(self, *args, **kwds)\u001b[0m\n\u001b[0;32m    909\u001b[0m   \u001b[39mself\u001b[39m\u001b[39m.\u001b[39m_lock\u001b[39m.\u001b[39mrelease()\n\u001b[0;32m    910\u001b[0m   \u001b[39m# In this case we have created variables on the first call, so we run the\u001b[39;00m\n\u001b[0;32m    911\u001b[0m   \u001b[39m# defunned version which is guaranteed to never create variables.\u001b[39;00m\n\u001b[1;32m--> 912\u001b[0m   \u001b[39mreturn\u001b[39;00m \u001b[39mself\u001b[39m\u001b[39m.\u001b[39m_no_variable_creation_fn(\u001b[39m*\u001b[39margs, \u001b[39m*\u001b[39m\u001b[39m*\u001b[39mkwds)  \u001b[39m# pylint: disable=not-callable\u001b[39;00m\n\u001b[0;32m    913\u001b[0m \u001b[39melif\u001b[39;00m \u001b[39mself\u001b[39m\u001b[39m.\u001b[39m_variable_creation_fn \u001b[39mis\u001b[39;00m \u001b[39mnot\u001b[39;00m \u001b[39mNone\u001b[39;00m:\n\u001b[0;32m    914\u001b[0m   \u001b[39m# Release the lock early so that multiple threads can perform the call\u001b[39;00m\n\u001b[0;32m    915\u001b[0m   \u001b[39m# in parallel.\u001b[39;00m\n\u001b[0;32m    916\u001b[0m   \u001b[39mself\u001b[39m\u001b[39m.\u001b[39m_lock\u001b[39m.\u001b[39mrelease()\n",
      "File \u001b[1;32mc:\\Users\\ACER\\anaconda3\\envs\\tf\\lib\\site-packages\\tensorflow\\python\\eager\\polymorphic_function\\tracing_compiler.py:134\u001b[0m, in \u001b[0;36mTracingCompiler.__call__\u001b[1;34m(self, *args, **kwargs)\u001b[0m\n\u001b[0;32m    131\u001b[0m \u001b[39mwith\u001b[39;00m \u001b[39mself\u001b[39m\u001b[39m.\u001b[39m_lock:\n\u001b[0;32m    132\u001b[0m   (concrete_function,\n\u001b[0;32m    133\u001b[0m    filtered_flat_args) \u001b[39m=\u001b[39m \u001b[39mself\u001b[39m\u001b[39m.\u001b[39m_maybe_define_function(args, kwargs)\n\u001b[1;32m--> 134\u001b[0m \u001b[39mreturn\u001b[39;00m concrete_function\u001b[39m.\u001b[39;49m_call_flat(\n\u001b[0;32m    135\u001b[0m     filtered_flat_args, captured_inputs\u001b[39m=\u001b[39;49mconcrete_function\u001b[39m.\u001b[39;49mcaptured_inputs)\n",
      "File \u001b[1;32mc:\\Users\\ACER\\anaconda3\\envs\\tf\\lib\\site-packages\\tensorflow\\python\\eager\\polymorphic_function\\monomorphic_function.py:1745\u001b[0m, in \u001b[0;36mConcreteFunction._call_flat\u001b[1;34m(self, args, captured_inputs, cancellation_manager)\u001b[0m\n\u001b[0;32m   1741\u001b[0m possible_gradient_type \u001b[39m=\u001b[39m gradients_util\u001b[39m.\u001b[39mPossibleTapeGradientTypes(args)\n\u001b[0;32m   1742\u001b[0m \u001b[39mif\u001b[39;00m (possible_gradient_type \u001b[39m==\u001b[39m gradients_util\u001b[39m.\u001b[39mPOSSIBLE_GRADIENT_TYPES_NONE\n\u001b[0;32m   1743\u001b[0m     \u001b[39mand\u001b[39;00m executing_eagerly):\n\u001b[0;32m   1744\u001b[0m   \u001b[39m# No tape is watching; skip to running the function.\u001b[39;00m\n\u001b[1;32m-> 1745\u001b[0m   \u001b[39mreturn\u001b[39;00m \u001b[39mself\u001b[39m\u001b[39m.\u001b[39m_build_call_outputs(\u001b[39mself\u001b[39;49m\u001b[39m.\u001b[39;49m_inference_function\u001b[39m.\u001b[39;49mcall(\n\u001b[0;32m   1746\u001b[0m       ctx, args, cancellation_manager\u001b[39m=\u001b[39;49mcancellation_manager))\n\u001b[0;32m   1747\u001b[0m forward_backward \u001b[39m=\u001b[39m \u001b[39mself\u001b[39m\u001b[39m.\u001b[39m_select_forward_and_backward_functions(\n\u001b[0;32m   1748\u001b[0m     args,\n\u001b[0;32m   1749\u001b[0m     possible_gradient_type,\n\u001b[0;32m   1750\u001b[0m     executing_eagerly)\n\u001b[0;32m   1751\u001b[0m forward_function, args_with_tangents \u001b[39m=\u001b[39m forward_backward\u001b[39m.\u001b[39mforward()\n",
      "File \u001b[1;32mc:\\Users\\ACER\\anaconda3\\envs\\tf\\lib\\site-packages\\tensorflow\\python\\eager\\polymorphic_function\\monomorphic_function.py:378\u001b[0m, in \u001b[0;36m_EagerDefinedFunction.call\u001b[1;34m(self, ctx, args, cancellation_manager)\u001b[0m\n\u001b[0;32m    376\u001b[0m \u001b[39mwith\u001b[39;00m _InterpolateFunctionError(\u001b[39mself\u001b[39m):\n\u001b[0;32m    377\u001b[0m   \u001b[39mif\u001b[39;00m cancellation_manager \u001b[39mis\u001b[39;00m \u001b[39mNone\u001b[39;00m:\n\u001b[1;32m--> 378\u001b[0m     outputs \u001b[39m=\u001b[39m execute\u001b[39m.\u001b[39;49mexecute(\n\u001b[0;32m    379\u001b[0m         \u001b[39mstr\u001b[39;49m(\u001b[39mself\u001b[39;49m\u001b[39m.\u001b[39;49msignature\u001b[39m.\u001b[39;49mname),\n\u001b[0;32m    380\u001b[0m         num_outputs\u001b[39m=\u001b[39;49m\u001b[39mself\u001b[39;49m\u001b[39m.\u001b[39;49m_num_outputs,\n\u001b[0;32m    381\u001b[0m         inputs\u001b[39m=\u001b[39;49margs,\n\u001b[0;32m    382\u001b[0m         attrs\u001b[39m=\u001b[39;49mattrs,\n\u001b[0;32m    383\u001b[0m         ctx\u001b[39m=\u001b[39;49mctx)\n\u001b[0;32m    384\u001b[0m   \u001b[39melse\u001b[39;00m:\n\u001b[0;32m    385\u001b[0m     outputs \u001b[39m=\u001b[39m execute\u001b[39m.\u001b[39mexecute_with_cancellation(\n\u001b[0;32m    386\u001b[0m         \u001b[39mstr\u001b[39m(\u001b[39mself\u001b[39m\u001b[39m.\u001b[39msignature\u001b[39m.\u001b[39mname),\n\u001b[0;32m    387\u001b[0m         num_outputs\u001b[39m=\u001b[39m\u001b[39mself\u001b[39m\u001b[39m.\u001b[39m_num_outputs,\n\u001b[1;32m   (...)\u001b[0m\n\u001b[0;32m    390\u001b[0m         ctx\u001b[39m=\u001b[39mctx,\n\u001b[0;32m    391\u001b[0m         cancellation_manager\u001b[39m=\u001b[39mcancellation_manager)\n",
      "File \u001b[1;32mc:\\Users\\ACER\\anaconda3\\envs\\tf\\lib\\site-packages\\tensorflow\\python\\eager\\execute.py:52\u001b[0m, in \u001b[0;36mquick_execute\u001b[1;34m(op_name, num_outputs, inputs, attrs, ctx, name)\u001b[0m\n\u001b[0;32m     50\u001b[0m \u001b[39mtry\u001b[39;00m:\n\u001b[0;32m     51\u001b[0m   ctx\u001b[39m.\u001b[39mensure_initialized()\n\u001b[1;32m---> 52\u001b[0m   tensors \u001b[39m=\u001b[39m pywrap_tfe\u001b[39m.\u001b[39;49mTFE_Py_Execute(ctx\u001b[39m.\u001b[39;49m_handle, device_name, op_name,\n\u001b[0;32m     53\u001b[0m                                       inputs, attrs, num_outputs)\n\u001b[0;32m     54\u001b[0m \u001b[39mexcept\u001b[39;00m core\u001b[39m.\u001b[39m_NotOkStatusException \u001b[39mas\u001b[39;00m e:\n\u001b[0;32m     55\u001b[0m   \u001b[39mif\u001b[39;00m name \u001b[39mis\u001b[39;00m \u001b[39mnot\u001b[39;00m \u001b[39mNone\u001b[39;00m:\n",
      "\u001b[1;31mKeyboardInterrupt\u001b[0m: "
     ]
    }
   ],
   "source": [
    "# train / fit model\n",
    "epoch = 150\n",
    "hist = model.fit(X_train, y_train\n",
    "          ,epochs = epoch\n",
    "          ,batch_size = 64\n",
    "          ,verbose=0\n",
    "          ,callbacks=[TqdmCallback(verbose=0)])"
   ]
  },
  {
   "cell_type": "code",
   "execution_count": 65,
   "id": "3cd57058",
   "metadata": {
    "execution": {
     "iopub.execute_input": "2022-11-02T22:17:18.231498Z",
     "iopub.status.busy": "2022-11-02T22:17:18.231170Z",
     "iopub.status.idle": "2022-11-02T22:17:18.240879Z",
     "shell.execute_reply": "2022-11-02T22:17:18.239958Z"
    },
    "id": "1jjNqwBmUnvV",
    "outputId": "107623e8-ad11-416e-c55f-c2a13f7c9e46",
    "papermill": {
     "duration": 0.021907,
     "end_time": "2022-11-02T22:17:18.242855",
     "exception": false,
     "start_time": "2022-11-02T22:17:18.220948",
     "status": "completed"
    },
    "tags": []
   },
   "outputs": [
    {
     "name": "stdout",
     "output_type": "stream",
     "text": [
      "Number of rows and columns:  (376, 1095, 1)\n"
     ]
    }
   ],
   "source": [
    "# Getting the predicted stock price\n",
    "test_data = training_scaled_data[training_data_len - n: , : ]\n",
    "\n",
    "#Create the x_test and y_test data sets\n",
    "X_test = []\n",
    "y_test =  target[training_data_len : , : ]\n",
    "for i in range(n,len(test_data)):\n",
    "    X_test.append(test_data[i-n:i,0])\n",
    "\n",
    "# Convert x_test to a numpy array\n",
    "X_test = np.array(X_test)\n",
    "\n",
    "#Reshape the data into the shape accepted by the LSTM\n",
    "X_test = np.reshape(X_test, (X_test.shape[0],X_test.shape[1],1))\n",
    "print('Number of rows and columns: ', X_test.shape)"
   ]
  },
  {
   "cell_type": "code",
   "execution_count": 66,
   "id": "d106c1c3",
   "metadata": {
    "execution": {
     "iopub.execute_input": "2022-11-02T22:17:18.261784Z",
     "iopub.status.busy": "2022-11-02T22:17:18.261502Z",
     "iopub.status.idle": "2022-11-02T22:17:20.041457Z",
     "shell.execute_reply": "2022-11-02T22:17:20.040199Z"
    },
    "id": "h2oYYrxIU0Mh",
    "outputId": "37b8c89a-136c-47f0-9047-bb346ad9b6f8",
    "papermill": {
     "duration": 1.79272,
     "end_time": "2022-11-02T22:17:20.044542",
     "exception": false,
     "start_time": "2022-11-02T22:17:18.251822",
     "status": "completed"
    },
    "tags": []
   },
   "outputs": [
    {
     "name": "stdout",
     "output_type": "stream",
     "text": [
      "12/12 [==============================] - 8s 538ms/step\n"
     ]
    }
   ],
   "source": [
    "# Making predictions using the test dataset\n",
    "predicted_stock_price = model.predict(X_test)\n",
    "predicted_stock_price = mms.inverse_transform(predicted_stock_price)"
   ]
  },
  {
   "cell_type": "code",
   "execution_count": 67,
   "id": "c61e4169",
   "metadata": {
    "execution": {
     "iopub.execute_input": "2022-11-02T22:17:20.069488Z",
     "iopub.status.busy": "2022-11-02T22:17:20.067515Z",
     "iopub.status.idle": "2022-11-02T22:17:20.378412Z",
     "shell.execute_reply": "2022-11-02T22:17:20.377317Z"
    },
    "id": "fLZ2eHDDU381",
    "outputId": "d7a3e5ad-6d9f-4cf2-88df-dc68a0d60635",
    "papermill": {
     "duration": 0.324778,
     "end_time": "2022-11-02T22:17:20.380679",
     "exception": false,
     "start_time": "2022-11-02T22:17:20.055901",
     "status": "completed"
    },
    "tags": []
   },
   "outputs": [
    {
     "data": {
      "image/png": "[encoded data removed]",
      "text/plain": [
       "<Figure size 1000x500 with 1 Axes>"
      ]
     },
     "metadata": {},
     "output_type": "display_data"
    }
   ],
   "source": [
    "# Visualising the results\n",
    "train = data_target[:training_data_len]\n",
    "valid = data_target[training_data_len:]\n",
    "valid['Predictions'] = predicted_stock_price\n",
    "plt.figure(figsize=(10,5))\n",
    "plt.title('predicted vs true value')\n",
    "plt.xlabel('Date', fontsize=8)\n",
    "plt.ylabel('Gold Close Price (USD)', fontsize=12)\n",
    "plt.plot(train['Close/Last'])\n",
    "plt.plot(valid[['Close/Last', 'Predictions']])\n",
    "plt.legend(['Train', 'Val', 'Predictions'], loc='lower right')\n",
    "plt.show()"
   ]
  },
  {
   "cell_type": "markdown",
   "id": "b9c274be",
   "metadata": {
    "papermill": {
     "duration": 0.009942,
     "end_time": "2022-11-02T22:17:20.401028",
     "exception": false,
     "start_time": "2022-11-02T22:17:20.391086",
     "status": "completed"
    },
    "tags": []
   },
   "source": [
    "**As, we can observe the predicted price is close to the true price.**"
   ]
  }
 ],
 "metadata": {
  "kernelspec": {
   "display_name": "Python 3 (ipykernel)",
   "language": "python",
   "name": "python3"
  },
  "language_info": {
   "codemirror_mode": {
    "name": "ipython",
    "version": 3
   },
   "file_extension": ".py",
   "mimetype": "text/x-python",
   "name": "python",
   "nbconvert_exporter": "python",
   "pygments_lexer": "ipython3",
   "version": "3.9.7"
  },
  "papermill": {
   "default_parameters": {},
   "duration": 574.409198,
   "end_time": "2022-11-02T22:17:23.674169",
   "environment_variables": {},
   "exception": null,
   "input_path": "__notebook__.ipynb",
   "output_path": "__notebook__.ipynb",
   "parameters": {},
   "start_time": "2022-11-02T22:07:49.264971",
   "version": "2.3.4"
  },
  "vscode": {
   "interpreter": {
    "hash": "bf0d741d5f36cb72faa016d1262c773a39cfb7e80732ae65e560a70de48671cb"
   }
  },
  "widgets": {
   "application/vnd.jupyter.widget-state+json": {
    "state": {
     "2b62000d9e85434bad400ea52ec81d84": {
      "model_module": "@jupyter-widgets/controls",
      "model_module_version": "1.5.0",
      "model_name": "HTMLModel",
      "state": {
       "_dom_classes": [],
       "_model_module": "@jupyter-widgets/controls",
       "_model_module_version": "1.5.0",
       "_model_name": "HTMLModel",
       "_view_count": null,
       "_view_module": "@jupyter-widgets/controls",
       "_view_module_version": "1.5.0",
       "_view_name": "HTMLView",
       "description": "",
       "description_tooltip": null,
       "layout": "IPY_MODEL_6c171c6113ff4984929673f10e5046ae",
       "placeholder": "​",
       "style": "IPY_MODEL_8a8ad815332141b5af18f28f8e83e4fc",
       "value": "100%"
      }
     },
     "47b40d249bb94d5b8edd6e0a883397e4": {
      "model_module": "@jupyter-widgets/controls",
      "model_module_version": "1.5.0",
      "model_name": "HBoxModel",
      "state": {
       "_dom_classes": [],
       "_model_module": "@jupyter-widgets/controls",
       "_model_module_version": "1.5.0",
       "_model_name": "HBoxModel",
       "_view_count": null,
       "_view_module": "@jupyter-widgets/controls",
       "_view_module_version": "1.5.0",
       "_view_name": "HBoxView",
       "box_style": "",
       "children": [
        "IPY_MODEL_2b62000d9e85434bad400ea52ec81d84",
        "IPY_MODEL_596bc63fa4ff4ac3893380674d2ad4ba",
        "IPY_MODEL_b0c55e5d38f843b8b9a27f403ef812f1"
       ],
       "layout": "IPY_MODEL_56ab763cceaa42a896c2c1369c55541b"
      }
     },
     "4c8cbf8dae724840a0bb0631b4f6beea": {
      "model_module": "@jupyter-widgets/controls",
      "model_module_version": "1.5.0",
      "model_name": "DescriptionStyleModel",
      "state": {
       "_model_module": "@jupyter-widgets/controls",
       "_model_module_version": "1.5.0",
       "_model_name": "DescriptionStyleModel",
       "_view_count": null,
       "_view_module": "@jupyter-widgets/base",
       "_view_module_version": "1.2.0",
       "_view_name": "StyleView",
       "description_width": ""
      }
     },
     "53cfc94337b34d709f2957a47eab1970": {
      "model_module": "@jupyter-widgets/controls",
      "model_module_version": "1.5.0",
      "model_name": "DescriptionStyleModel",
      "state": {
       "_model_module": "@jupyter-widgets/controls",
       "_model_module_version": "1.5.0",
       "_model_name": "DescriptionStyleModel",
       "_view_count": null,
       "_view_module": "@jupyter-widgets/base",
       "_view_module_version": "1.2.0",
       "_view_name": "StyleView",
       "description_width": ""
      }
     },
     "56ab763cceaa42a896c2c1369c55541b": {
      "model_module": "@jupyter-widgets/base",
      "model_module_version": "1.2.0",
      "model_name": "LayoutModel",
      "state": {
       "_model_module": "@jupyter-widgets/base",
       "_model_module_version": "1.2.0",
       "_model_name": "LayoutModel",
       "_view_count": null,
       "_view_module": "@jupyter-widgets/base",
       "_view_module_version": "1.2.0",
       "_view_name": "LayoutView",
       "align_content": null,
       "align_items": null,
       "align_self": null,
       "border": null,
       "bottom": null,
       "display": null,
       "flex": null,
       "flex_flow": null,
       "grid_area": null,
       "grid_auto_columns": null,
       "grid_auto_flow": null,
       "grid_auto_rows": null,
       "grid_column": null,
       "grid_gap": null,
       "grid_row": null,
       "grid_template_areas": null,
       "grid_template_columns": null,
       "grid_template_rows": null,
       "height": null,
       "justify_content": null,
       "justify_items": null,
       "left": null,
       "margin": null,
       "max_height": null,
       "max_width": null,
       "min_height": null,
       "min_width": null,
       "object_fit": null,
       "object_position": null,
       "order": null,
       "overflow": null,
       "overflow_x": null,
       "overflow_y": null,
       "padding": null,
       "right": null,
       "top": null,
       "visibility": null,
       "width": null
      }
     },
     "596bc63fa4ff4ac3893380674d2ad4ba": {
      "model_module": "@jupyter-widgets/controls",
      "model_module_version": "1.5.0",
      "model_name": "FloatProgressModel",
      "state": {
       "_dom_classes": [],
       "_model_module": "@jupyter-widgets/controls",
       "_model_module_version": "1.5.0",
       "_model_name": "FloatProgressModel",
       "_view_count": null,
       "_view_module": "@jupyter-widgets/controls",
       "_view_module_version": "1.5.0",
       "_view_name": "ProgressView",
       "bar_style": "success",
       "description": "",
       "description_tooltip": null,
       "layout": "IPY_MODEL_ca743018bdd146c4a7dc4acce047d267",
       "max": 150,
       "min": 0,
       "orientation": "horizontal",
       "style": "IPY_MODEL_fd87d86430d64a50b7349b5e9716a4cc",
       "value": 150
      }
     },
     "5b8724275df540c9887853fbef6757e4": {
      "model_module": "@jupyter-widgets/base",
      "model_module_version": "1.2.0",
      "model_name": "LayoutModel",
      "state": {
       "_model_module": "@jupyter-widgets/base",
       "_model_module_version": "1.2.0",
       "_model_name": "LayoutModel",
       "_view_count": null,
       "_view_module": "@jupyter-widgets/base",
       "_view_module_version": "1.2.0",
       "_view_name": "LayoutView",
       "align_content": null,
       "align_items": null,
       "align_self": null,
       "border": null,
       "bottom": null,
       "display": null,
       "flex": null,
       "flex_flow": null,
       "grid_area": null,
       "grid_auto_columns": null,
       "grid_auto_flow": null,
       "grid_auto_rows": null,
       "grid_column": null,
       "grid_gap": null,
       "grid_row": null,
       "grid_template_areas": null,
       "grid_template_columns": null,
       "grid_template_rows": null,
       "height": null,
       "justify_content": null,
       "justify_items": null,
       "left": null,
       "margin": null,
       "max_height": null,
       "max_width": null,
       "min_height": null,
       "min_width": null,
       "object_fit": null,
       "object_position": null,
       "order": null,
       "overflow": null,
       "overflow_x": null,
       "overflow_y": null,
       "padding": null,
       "right": null,
       "top": null,
       "visibility": null,
       "width": null
      }
     },
     "610c826fc7004bd28978ad8f3c3f5e69": {
      "model_module": "@jupyter-widgets/base",
      "model_module_version": "1.2.0",
      "model_name": "LayoutModel",
      "state": {
       "_model_module": "@jupyter-widgets/base",
       "_model_module_version": "1.2.0",
       "_model_name": "LayoutModel",
       "_view_count": null,
       "_view_module": "@jupyter-widgets/base",
       "_view_module_version": "1.2.0",
       "_view_name": "LayoutView",
       "align_content": null,
       "align_items": null,
       "align_self": null,
       "border": null,
       "bottom": null,
       "display": null,
       "flex": null,
       "flex_flow": null,
       "grid_area": null,
       "grid_auto_columns": null,
       "grid_auto_flow": null,
       "grid_auto_rows": null,
       "grid_column": null,
       "grid_gap": null,
       "grid_row": null,
       "grid_template_areas": null,
       "grid_template_columns": null,
       "grid_template_rows": null,
       "height": null,
       "justify_content": null,
       "justify_items": null,
       "left": null,
       "margin": null,
       "max_height": null,
       "max_width": null,
       "min_height": null,
       "min_width": null,
       "object_fit": null,
       "object_position": null,
       "order": null,
       "overflow": null,
       "overflow_x": null,
       "overflow_y": null,
       "padding": null,
       "right": null,
       "top": null,
       "visibility": null,
       "width": null
      }
     },
     "6c171c6113ff4984929673f10e5046ae": {
      "model_module": "@jupyter-widgets/base",
      "model_module_version": "1.2.0",
      "model_name": "LayoutModel",
      "state": {
       "_model_module": "@jupyter-widgets/base",
       "_model_module_version": "1.2.0",
       "_model_name": "LayoutModel",
       "_view_count": null,
       "_view_module": "@jupyter-widgets/base",
       "_view_module_version": "1.2.0",
       "_view_name": "LayoutView",
       "align_content": null,
       "align_items": null,
       "align_self": null,
       "border": null,
       "bottom": null,
       "display": null,
       "flex": null,
       "flex_flow": null,
       "grid_area": null,
       "grid_auto_columns": null,
       "grid_auto_flow": null,
       "grid_auto_rows": null,
       "grid_column": null,
       "grid_gap": null,
       "grid_row": null,
       "grid_template_areas": null,
       "grid_template_columns": null,
       "grid_template_rows": null,
       "height": null,
       "justify_content": null,
       "justify_items": null,
       "left": null,
       "margin": null,
       "max_height": null,
       "max_width": null,
       "min_height": null,
       "min_width": null,
       "object_fit": null,
       "object_position": null,
       "order": null,
       "overflow": null,
       "overflow_x": null,
       "overflow_y": null,
       "padding": null,
       "right": null,
       "top": null,
       "visibility": null,
       "width": null
      }
     },
     "78ee5931b6c34b60a7ab197468d98d1c": {
      "model_module": "@jupyter-widgets/base",
      "model_module_version": "1.2.0",
      "model_name": "LayoutModel",
      "state": {
       "_model_module": "@jupyter-widgets/base",
       "_model_module_version": "1.2.0",
       "_model_name": "LayoutModel",
       "_view_count": null,
       "_view_module": "@jupyter-widgets/base",
       "_view_module_version": "1.2.0",
       "_view_name": "LayoutView",
       "align_content": null,
       "align_items": null,
       "align_self": null,
       "border": null,
       "bottom": null,
       "display": null,
       "flex": null,
       "flex_flow": null,
       "grid_area": null,
       "grid_auto_columns": null,
       "grid_auto_flow": null,
       "grid_auto_rows": null,
       "grid_column": null,
       "grid_gap": null,
       "grid_row": null,
       "grid_template_areas": null,
       "grid_template_columns": null,
       "grid_template_rows": null,
       "height": null,
       "justify_content": null,
       "justify_items": null,
       "left": null,
       "margin": null,
       "max_height": null,
       "max_width": null,
       "min_height": null,
       "min_width": null,
       "object_fit": null,
       "object_position": null,
       "order": null,
       "overflow": null,
       "overflow_x": null,
       "overflow_y": null,
       "padding": null,
       "right": null,
       "top": null,
       "visibility": null,
       "width": null
      }
     },
     "793fcee26a0e4e02b1b88ace442673ed": {
      "model_module": "@jupyter-widgets/controls",
      "model_module_version": "1.5.0",
      "model_name": "FloatProgressModel",
      "state": {
       "_dom_classes": [],
       "_model_module": "@jupyter-widgets/controls",
       "_model_module_version": "1.5.0",
       "_model_name": "FloatProgressModel",
       "_view_count": null,
       "_view_module": "@jupyter-widgets/controls",
       "_view_module_version": "1.5.0",
       "_view_name": "ProgressView",
       "bar_style": "success",
       "description": "",
       "description_tooltip": null,
       "layout": "IPY_MODEL_610c826fc7004bd28978ad8f3c3f5e69",
       "max": 150,
       "min": 0,
       "orientation": "horizontal",
       "style": "IPY_MODEL_a33622833a7b4a528493101a73b47d75",
       "value": 150
      }
     },
     "8a8ad815332141b5af18f28f8e83e4fc": {
      "model_module": "@jupyter-widgets/controls",
      "model_module_version": "1.5.0",
      "model_name": "DescriptionStyleModel",
      "state": {
       "_model_module": "@jupyter-widgets/controls",
       "_model_module_version": "1.5.0",
       "_model_name": "DescriptionStyleModel",
       "_view_count": null,
       "_view_module": "@jupyter-widgets/base",
       "_view_module_version": "1.2.0",
       "_view_name": "StyleView",
       "description_width": ""
      }
     },
     "a33622833a7b4a528493101a73b47d75": {
      "model_module": "@jupyter-widgets/controls",
      "model_module_version": "1.5.0",
      "model_name": "ProgressStyleModel",
      "state": {
       "_model_module": "@jupyter-widgets/controls",
       "_model_module_version": "1.5.0",
       "_model_name": "ProgressStyleModel",
       "_view_count": null,
       "_view_module": "@jupyter-widgets/base",
       "_view_module_version": "1.2.0",
       "_view_name": "StyleView",
       "bar_color": null,
       "description_width": ""
      }
     },
     "ae72a89157e54f40946ba69b63a80985": {
      "model_module": "@jupyter-widgets/controls",
      "model_module_version": "1.5.0",
      "model_name": "HBoxModel",
      "state": {
       "_dom_classes": [],
       "_model_module": "@jupyter-widgets/controls",
       "_model_module_version": "1.5.0",
       "_model_name": "HBoxModel",
       "_view_count": null,
       "_view_module": "@jupyter-widgets/controls",
       "_view_module_version": "1.5.0",
       "_view_name": "HBoxView",
       "box_style": "",
       "children": [
        "IPY_MODEL_d5baf9119189471597499b716f3f4b01",
        "IPY_MODEL_793fcee26a0e4e02b1b88ace442673ed",
        "IPY_MODEL_f133fa17075949348865e457158cd3ec"
       ],
       "layout": "IPY_MODEL_78ee5931b6c34b60a7ab197468d98d1c"
      }
     },
     "b0c55e5d38f843b8b9a27f403ef812f1": {
      "model_module": "@jupyter-widgets/controls",
      "model_module_version": "1.5.0",
      "model_name": "HTMLModel",
      "state": {
       "_dom_classes": [],
       "_model_module": "@jupyter-widgets/controls",
       "_model_module_version": "1.5.0",
       "_model_name": "HTMLModel",
       "_view_count": null,
       "_view_module": "@jupyter-widgets/controls",
       "_view_module_version": "1.5.0",
       "_view_name": "HTMLView",
       "description": "",
       "description_tooltip": null,
       "layout": "IPY_MODEL_5b8724275df540c9887853fbef6757e4",
       "placeholder": "​",
       "style": "IPY_MODEL_4c8cbf8dae724840a0bb0631b4f6beea",
       "value": " 150/150 [05:21&lt;00:00,  2.16s/epoch, loss=0.000199]"
      }
     },
     "b5a26b6d1c644b6e9c7e5d6bc10ad38a": {
      "model_module": "@jupyter-widgets/controls",
      "model_module_version": "1.5.0",
      "model_name": "DescriptionStyleModel",
      "state": {
       "_model_module": "@jupyter-widgets/controls",
       "_model_module_version": "1.5.0",
       "_model_name": "DescriptionStyleModel",
       "_view_count": null,
       "_view_module": "@jupyter-widgets/base",
       "_view_module_version": "1.2.0",
       "_view_name": "StyleView",
       "description_width": ""
      }
     },
     "ca743018bdd146c4a7dc4acce047d267": {
      "model_module": "@jupyter-widgets/base",
      "model_module_version": "1.2.0",
      "model_name": "LayoutModel",
      "state": {
       "_model_module": "@jupyter-widgets/base",
       "_model_module_version": "1.2.0",
       "_model_name": "LayoutModel",
       "_view_count": null,
       "_view_module": "@jupyter-widgets/base",
       "_view_module_version": "1.2.0",
       "_view_name": "LayoutView",
       "align_content": null,
       "align_items": null,
       "align_self": null,
       "border": null,
       "bottom": null,
       "display": null,
       "flex": null,
       "flex_flow": null,
       "grid_area": null,
       "grid_auto_columns": null,
       "grid_auto_flow": null,
       "grid_auto_rows": null,
       "grid_column": null,
       "grid_gap": null,
       "grid_row": null,
       "grid_template_areas": null,
       "grid_template_columns": null,
       "grid_template_rows": null,
       "height": null,
       "justify_content": null,
       "justify_items": null,
       "left": null,
       "margin": null,
       "max_height": null,
       "max_width": null,
       "min_height": null,
       "min_width": null,
       "object_fit": null,
       "object_position": null,
       "order": null,
       "overflow": null,
       "overflow_x": null,
       "overflow_y": null,
       "padding": null,
       "right": null,
       "top": null,
       "visibility": null,
       "width": null
      }
     },
     "d5baf9119189471597499b716f3f4b01": {
      "model_module": "@jupyter-widgets/controls",
      "model_module_version": "1.5.0",
      "model_name": "HTMLModel",
      "state": {
       "_dom_classes": [],
       "_model_module": "@jupyter-widgets/controls",
       "_model_module_version": "1.5.0",
       "_model_name": "HTMLModel",
       "_view_count": null,
       "_view_module": "@jupyter-widgets/controls",
       "_view_module_version": "1.5.0",
       "_view_name": "HTMLView",
       "description": "",
       "description_tooltip": null,
       "layout": "IPY_MODEL_f0a7329f834f413d9b601d9ba53b3bfe",
       "placeholder": "​",
       "style": "IPY_MODEL_b5a26b6d1c644b6e9c7e5d6bc10ad38a",
       "value": "100%"
      }
     },
     "ef2befb15de24ea48b79bcc4edf4f5e1": {
      "model_module": "@jupyter-widgets/base",
      "model_module_version": "1.2.0",
      "model_name": "LayoutModel",
      "state": {
       "_model_module": "@jupyter-widgets/base",
       "_model_module_version": "1.2.0",
       "_model_name": "LayoutModel",
       "_view_count": null,
       "_view_module": "@jupyter-widgets/base",
       "_view_module_version": "1.2.0",
       "_view_name": "LayoutView",
       "align_content": null,
       "align_items": null,
       "align_self": null,
       "border": null,
       "bottom": null,
       "display": null,
       "flex": null,
       "flex_flow": null,
       "grid_area": null,
       "grid_auto_columns": null,
       "grid_auto_flow": null,
       "grid_auto_rows": null,
       "grid_column": null,
       "grid_gap": null,
       "grid_row": null,
       "grid_template_areas": null,
       "grid_template_columns": null,
       "grid_template_rows": null,
       "height": null,
       "justify_content": null,
       "justify_items": null,
       "left": null,
       "margin": null,
       "max_height": null,
       "max_width": null,
       "min_height": null,
       "min_width": null,
       "object_fit": null,
       "object_position": null,
       "order": null,
       "overflow": null,
       "overflow_x": null,
       "overflow_y": null,
       "padding": null,
       "right": null,
       "top": null,
       "visibility": null,
       "width": null
      }
     },
     "f0a7329f834f413d9b601d9ba53b3bfe": {
      "model_module": "@jupyter-widgets/base",
      "model_module_version": "1.2.0",
      "model_name": "LayoutModel",
      "state": {
       "_model_module": "@jupyter-widgets/base",
       "_model_module_version": "1.2.0",
       "_model_name": "LayoutModel",
       "_view_count": null,
       "_view_module": "@jupyter-widgets/base",
       "_view_module_version": "1.2.0",
       "_view_name": "LayoutView",
       "align_content": null,
       "align_items": null,
       "align_self": null,
       "border": null,
       "bottom": null,
       "display": null,
       "flex": null,
       "flex_flow": null,
       "grid_area": null,
       "grid_auto_columns": null,
       "grid_auto_flow": null,
       "grid_auto_rows": null,
       "grid_column": null,
       "grid_gap": null,
       "grid_row": null,
       "grid_template_areas": null,
       "grid_template_columns": null,
       "grid_template_rows": null,
       "height": null,
       "justify_content": null,
       "justify_items": null,
       "left": null,
       "margin": null,
       "max_height": null,
       "max_width": null,
       "min_height": null,
       "min_width": null,
       "object_fit": null,
       "object_position": null,
       "order": null,
       "overflow": null,
       "overflow_x": null,
       "overflow_y": null,
       "padding": null,
       "right": null,
       "top": null,
       "visibility": null,
       "width": null
      }
     },
     "f133fa17075949348865e457158cd3ec": {
      "model_module": "@jupyter-widgets/controls",
      "model_module_version": "1.5.0",
      "model_name": "HTMLModel",
      "state": {
       "_dom_classes": [],
       "_model_module": "@jupyter-widgets/controls",
       "_model_module_version": "1.5.0",
       "_model_name": "HTMLModel",
       "_view_count": null,
       "_view_module": "@jupyter-widgets/controls",
       "_view_module_version": "1.5.0",
       "_view_name": "HTMLView",
       "description": "",
       "description_tooltip": null,
       "layout": "IPY_MODEL_ef2befb15de24ea48b79bcc4edf4f5e1",
       "placeholder": "​",
       "style": "IPY_MODEL_53cfc94337b34d709f2957a47eab1970",
       "value": " 150/150 [02:31&lt;00:00,  1.08epoch/s, loss=0.00234, mse=0.00234, val_loss=0.000126, val_mse=0.000126]"
      }
     },
     "fd87d86430d64a50b7349b5e9716a4cc": {
      "model_module": "@jupyter-widgets/controls",
      "model_module_version": "1.5.0",
      "model_name": "ProgressStyleModel",
      "state": {
       "_model_module": "@jupyter-widgets/controls",
       "_model_module_version": "1.5.0",
       "_model_name": "ProgressStyleModel",
       "_view_count": null,
       "_view_module": "@jupyter-widgets/base",
       "_view_module_version": "1.2.0",
       "_view_name": "StyleView",
       "bar_color": null,
       "description_width": ""
      }
     }
    },
    "version_major": 2,
    "version_minor": 0
   }
  }
 },
 "nbformat": 4,
 "nbformat_minor": 5
}
